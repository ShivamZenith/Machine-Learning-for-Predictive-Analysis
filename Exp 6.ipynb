{
 "cells": [
  {
   "cell_type": "code",
   "execution_count": 1,
   "id": "31b98b4d",
   "metadata": {},
   "outputs": [
    {
     "name": "stdout",
     "output_type": "stream",
     "text": [
      "      Id  SepalLengthCm  SepalWidthCm  PetalLengthCm  PetalWidthCm  \\\n",
      "0      1            5.1           3.5            1.4           0.2   \n",
      "1      2            4.9           3.0            1.4           0.2   \n",
      "2      3            4.7           3.2            1.3           0.2   \n",
      "3      4            4.6           3.1            1.5           0.2   \n",
      "4      5            5.0           3.6            1.4           0.2   \n",
      "..   ...            ...           ...            ...           ...   \n",
      "145  146            6.7           3.0            5.2           2.3   \n",
      "146  147            6.3           2.5            5.0           1.9   \n",
      "147  148            6.5           3.0            5.2           2.0   \n",
      "148  149            6.2           3.4            5.4           2.3   \n",
      "149  150            5.9           3.0            5.1           1.8   \n",
      "\n",
      "            Species  \n",
      "0       Iris-setosa  \n",
      "1       Iris-setosa  \n",
      "2       Iris-setosa  \n",
      "3       Iris-setosa  \n",
      "4       Iris-setosa  \n",
      "..              ...  \n",
      "145  Iris-virginica  \n",
      "146  Iris-virginica  \n",
      "147  Iris-virginica  \n",
      "148  Iris-virginica  \n",
      "149  Iris-virginica  \n",
      "\n",
      "[150 rows x 6 columns]\n",
      "[1.34811566 4.77429276 7.73904718 5.13191158 2.02585052 6.2797736\n",
      " 6.92000569 4.16285896 4.56668505 3.84274292 5.26451372 1.92204667\n",
      " 1.42312122 5.13191158 5.24441992 2.13835886 6.09225971 1.52692507\n",
      " 4.87809661 4.24656901 4.0878534  4.13406067 5.0944088  2.10085608\n",
      " 3.56012966 5.46073211 5.24441992 3.75903287 4.2753673  4.56668505]\n"
     ]
    }
   ],
   "source": [
    "# Prog 6: MLR\n",
    "\n",
    "import pandas as pd\n",
    "iris = pd.read_csv(\"IRIS.csv\")\n",
    "print(iris)\n",
    "import numpy as np\n",
    "\n",
    "x = iris[['SepalLengthCm', 'SepalWidthCm']]\n",
    "y = iris.PetalLengthCm\n",
    "\n",
    "from sklearn.model_selection import train_test_split\n",
    "x_train, x_test, y_train, y_test = train_test_split(x,y,test_size=0.2)\n",
    "\n",
    "from sklearn.linear_model import LinearRegression\n",
    "LR = LinearRegression()\n",
    "training = LR.fit(x_train, y_train)\n",
    "y_pred = LR.predict(x_test)\n",
    "print(y_pred)"
   ]
  }
 ],
 "metadata": {
  "kernelspec": {
   "display_name": "Python 3",
   "language": "python",
   "name": "python3"
  },
  "language_info": {
   "codemirror_mode": {
    "name": "ipython",
    "version": 3
   },
   "file_extension": ".py",
   "mimetype": "text/x-python",
   "name": "python",
   "nbconvert_exporter": "python",
   "pygments_lexer": "ipython3",
   "version": "3.13.5"
  }
 },
 "nbformat": 4,
 "nbformat_minor": 5
}
